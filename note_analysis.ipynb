{
 "cells": [
  {
   "cell_type": "code",
   "execution_count": 51,
   "id": "faa0a92b",
   "metadata": {},
   "outputs": [],
   "source": [
    "import os\n",
    "import pandas as pd\n",
    "import tqdm\n",
    "import numpy as np\n",
    "import matplotlib.pyplot as plt"
   ]
  },
  {
   "cell_type": "code",
   "execution_count": null,
   "id": "73ba094b",
   "metadata": {
    "scrolled": true
   },
   "outputs": [],
   "source": [
    "# 分割されたratingのtsvを統合\n",
    "data_list = []\n",
    "root_dir = 'sourcecode/data'\n",
    "\n",
    "col_names = [\"\"]\n",
    "data_list.append(pd.read_csv(os.path.join(root_dir, 'ratings-00000.tsv')))\n",
    "data_list.append(pd.read_csv(os.path.join(root_dir, 'ratings-00001.tsv')))\n",
    "\n",
    "df = pd.concat(data_list, axis=0, sort=False)\n",
    "df.to_csv(os.path.join(root_dir, 'ratings-total.tsv'), index=False)"
   ]
  },
  {
   "cell_type": "code",
   "execution_count": 66,
   "id": "7fd7dd71",
   "metadata": {},
   "outputs": [
    {
     "name": "stdout",
     "output_type": "stream",
     "text": [
      "(7674286, 2)\n"
     ]
    }
   ],
   "source": [
    "# raterの必要なカラムのみ抽出\n",
    "root_dir = 'sourcecode/data'\n",
    "\n",
    "rating = pd.read_csv(os.path.join(root_dir, 'ratings-total.tsv'), delimiter='\\t')\n",
    "rating_helpful = rating[rating[\"helpfulnessLevel\"] == \"HELPFUL\"]\n",
    "extract_rating_helpful = rating_helpful.loc[:, [\"noteId\", \"raterParticipantId\"]]\n",
    "print(extract_rating_helpful.shape)"
   ]
  },
  {
   "cell_type": "code",
   "execution_count": 34,
   "id": "4d8800e9",
   "metadata": {},
   "outputs": [],
   "source": [
    "# noteとuserの必要な属性を抽出\n",
    "note = pd.read_csv(os.path.join(root_dir, 'scored_notes.tsv'), delimiter='\\t')\n",
    "extract_note = note.loc[:, [\"noteId\", \"finalRatingStatus\"]]\n",
    "note_dict = {}\n",
    "for n in extract_note.itertuples():\n",
    "    note_dict[str(n[1])] = n[2] \n",
    "\n",
    "user = pd.read_csv(os.path.join(root_dir, 'helpfulness_scores.tsv'), delimiter='\\t')\n",
    "extract_user = user.loc[:, [\"raterParticipantId\", \"coreRaterFactor1\"]]\n",
    "user_dict = {}\n",
    "for u in extract_user.itertuples():\n",
    "    user_dict[str(u[1])] = u[2] "
   ]
  },
  {
   "cell_type": "code",
   "execution_count": 67,
   "id": "630d6aca",
   "metadata": {
    "scrolled": true
   },
   "outputs": [
    {
     "name": "stdout",
     "output_type": "stream",
     "text": [
      "0.0 %\n",
      "1.3 %\n",
      "2.61 %\n",
      "3.91 %\n",
      "5.21 %\n",
      "6.52 %\n",
      "7.82 %\n",
      "9.12 %\n",
      "10.42 %\n",
      "11.73 %\n",
      "13.03 %\n",
      "14.33 %\n",
      "15.64 %\n",
      "16.94 %\n",
      "18.24 %\n",
      "19.55 %\n",
      "20.85 %\n",
      "22.15 %\n",
      "23.45 %\n",
      "24.76 %\n",
      "26.06 %\n",
      "27.36 %\n",
      "28.67 %\n",
      "29.97 %\n",
      "31.27 %\n",
      "32.58 %\n",
      "33.88 %\n",
      "35.18 %\n",
      "36.49 %\n",
      "37.79 %\n",
      "39.09 %\n",
      "40.39 %\n",
      "41.7 %\n",
      "43.0 %\n",
      "44.3 %\n",
      "45.61 %\n",
      "46.91 %\n",
      "48.21 %\n",
      "49.52 %\n",
      "50.82 %\n",
      "52.12 %\n",
      "53.43 %\n",
      "54.73 %\n",
      "56.03 %\n",
      "57.33 %\n",
      "58.64 %\n",
      "59.94 %\n",
      "61.24 %\n",
      "62.55 %\n",
      "63.85 %\n",
      "65.15 %\n",
      "66.46 %\n",
      "67.76 %\n",
      "69.06 %\n",
      "70.36 %\n",
      "71.67 %\n",
      "72.97 %\n",
      "74.27 %\n",
      "75.58 %\n",
      "76.88 %\n",
      "78.18 %\n",
      "79.49 %\n",
      "80.79 %\n",
      "82.09 %\n",
      "83.4 %\n",
      "84.7 %\n",
      "86.0 %\n",
      "87.3 %\n",
      "88.61 %\n",
      "89.91 %\n",
      "91.21 %\n",
      "92.52 %\n",
      "93.82 %\n",
      "95.12 %\n",
      "96.43 %\n",
      "97.73 %\n",
      "99.03 %\n"
     ]
    }
   ],
   "source": [
    "# raterごとに対象noteが \"HELPFUL\" か \"NEEDS_MORE_RATINGS\" か確認\n",
    "# それぞれの場合でraterのfactor(noteごとにもつfactorに対する反応度→分極度合い)を格納\n",
    "helpful_user_factor = []\n",
    "need_user_factor = []\n",
    "not_factor_user_cnt = 0\n",
    "not_factor_note_cnt = 0\n",
    "\n",
    "for i, r in enumerate(extract_rating_helpful.itertuples()):\n",
    "    #print(r[1])\n",
    "    \n",
    "    if r[2] in user_dict:  # factorがつけられたuserのみ抽出(filteringされている)\n",
    "        if str(r[1]) in note_dict: # factorがつけられたnoteのみ抽出(filteringされている)\n",
    "            if note_dict[str(r[1])] == \"CURRENTLY_RATED_HELPFUL\":\n",
    "                #print(\"CURRENTLY_RATED_HELPFUL\")\n",
    "                helpful_user_factor.append(user_dict[r[2]])\n",
    "\n",
    "\n",
    "            elif note_dict[str(r[1])] == \"NEEDS_MORE_RATINGS\":\n",
    "                #print(\"NEEDS_MORE_RATINGS\")\n",
    "                need_user_factor.append(user_dict[r[2]])\n",
    "                \n",
    "        else:\n",
    "            not_factor_note_cnt += 1\n",
    "            \n",
    "    else:\n",
    "        not_factor_user_cnt += 1\n",
    "\n",
    "    #if i > 5:\n",
    "        #break\n",
    "        \n",
    "    if i % 100000 == 0:\n",
    "        print(f'{np.round(100 * i / extract_rating_helpful.shape[0], decimals=2)} %' )\n",
    "    \n"
   ]
  },
  {
   "cell_type": "code",
   "execution_count": 68,
   "id": "2e0e93d6",
   "metadata": {},
   "outputs": [
    {
     "data": {
      "image/png": "[encoded data removed]",
      "text/plain": [
       "<Figure size 432x288 with 1 Axes>"
      ]
     },
     "metadata": {
      "needs_background": "light"
     },
     "output_type": "display_data"
    }
   ],
   "source": [
    "# \"CURRENTLY_RATED_HELPFUL\", \"NEEDS_MORE_RATINGS\" になったnoteを評価したuserのfactorの総計ヒストグラム\n",
    "bins = np.linspace(-1, 1, 10)\n",
    "helpful_user_factor_arr = np.array(helpful_user_factor)\n",
    "need_user_factor_arr = np.array(need_user_factor)\n",
    "\n",
    "plt.hist([helpful_user_factor_arr, need_user_factor_arr], bins, label=[\"CURRENTLY_RATED_HELPFUL\", \"NEEDS_MORE_RATINGS\"])\n",
    "plt.legend()\n",
    "plt.xlabel(\"degree of polarization\")\n",
    "plt.title(\"note rater histgram\")\n",
    "plt.savefig(\"note_rator_histgram_polarization.png\")"
   ]
  },
  {
   "cell_type": "code",
   "execution_count": 71,
   "id": "a88a2f2c",
   "metadata": {},
   "outputs": [
    {
     "name": "stdout",
     "output_type": "stream",
     "text": [
      "filteringされたnoteの割合：10.52 %\n",
      "filteringされたuserの割合：17.52 %\n"
     ]
    }
   ],
   "source": [
    "print(f\"filteringされたnoteの割合：{np.round(100 * not_factor_note_cnt/ extract_rating_helpful.shape[0], decimals=2)} %\")\n",
    "print(f\"filteringされたuserの割合：{np.round(100 * not_factor_user_cnt/ extract_rating_helpful.shape[0], decimals=2)} %\")"
   ]
  },
  {
   "cell_type": "code",
   "execution_count": null,
   "id": "6ea6b39e",
   "metadata": {},
   "outputs": [],
   "source": []
  }
 ],
 "metadata": {
  "kernelspec": {
   "display_name": "Python 3 (ipykernel)",
   "language": "python",
   "name": "python3"
  },
  "language_info": {
   "codemirror_mode": {
    "name": "ipython",
    "version": 3
   },
   "file_extension": ".py",
   "mimetype": "text/x-python",
   "name": "python",
   "nbconvert_exporter": "python",
   "pygments_lexer": "ipython3",
   "version": "3.9.5"
  }
 },
 "nbformat": 4,
 "nbformat_minor": 5
}
